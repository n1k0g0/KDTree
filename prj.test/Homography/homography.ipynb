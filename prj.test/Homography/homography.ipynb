{
  "nbformat": 4,
  "nbformat_minor": 0,
  "metadata": {
    "colab": {
      "name": "Untitled2.ipynb",
      "provenance": [],
      "collapsed_sections": []
    },
    "kernelspec": {
      "name": "python3",
      "display_name": "Python 3"
    }
  },
  "cells": [
    {
      "cell_type": "code",
      "metadata": {
        "id": "WLudmJqza-_f"
      },
      "source": [
        "import numpy as np\n",
        "import matplotlib.pyplot as plt"
      ],
      "execution_count": 1,
      "outputs": []
    },
    {
      "cell_type": "code",
      "metadata": {
        "colab": {
          "base_uri": "https://localhost:8080/"
        },
        "id": "W1TtkELYerPO",
        "outputId": "b23c5c26-6559-4655-e4d3-cad2d151cff1"
      },
      "source": [
        "raw_points = np.loadtxt('source.txt')\n",
        "raw_points"
      ],
      "execution_count": 26,
      "outputs": [
        {
          "output_type": "execute_result",
          "data": {
            "text/plain": [
              "array([[ 0.       ,  0.783437 ],\n",
              "       [-0.452318 ,  0.       ],\n",
              "       [ 0.452318 ,  0.       ],\n",
              "       [ 0.121458 ,  0.573065 ],\n",
              "       [ 0.105789 ,  0.600204 ],\n",
              "       [-0.0914075,  0.625115 ],\n",
              "       [-0.423498 ,  0.       ],\n",
              "       [ 0.140542 ,  0.540011 ],\n",
              "       [-0.256535 ,  0.339105 ],\n",
              "       [-0.408496 ,  0.075902 ],\n",
              "       [-0.408496 ,  0.075902 ],\n",
              "       [-0.120503 ,  0.       ],\n",
              "       [ 0.28337  ,  0.292626 ],\n",
              "       [ 0.28337  ,  0.292626 ],\n",
              "       [-0.429047 ,  0.0403062],\n",
              "       [-0.429047 ,  0.0403062],\n",
              "       [ 0.416742 ,  0.0616179],\n",
              "       [ 0.416742 ,  0.0616179],\n",
              "       [-0.0672831,  0.666899 ],\n",
              "       [-0.258092 ,  0.336409 ],\n",
              "       [-0.237503 ,  0.37207  ],\n",
              "       [ 0.258172 ,  0.336269 ],\n",
              "       [-0.257384 ,  0.337635 ],\n",
              "       [ 0.166491 ,  0.       ],\n",
              "       [-0.214538 ,  0.       ]])"
            ]
          },
          "metadata": {
            "tags": []
          },
          "execution_count": 26
        }
      ]
    },
    {
      "cell_type": "code",
      "metadata": {
        "colab": {
          "base_uri": "https://localhost:8080/",
          "height": 282
        },
        "id": "O1Cp-E5acPOh",
        "outputId": "31d2cd0b-f6cf-4e76-f85d-b44192a3d605"
      },
      "source": [
        "x = [coord[0] for coord in raw_points]\n",
        "y = [coord[1] for coord in raw_points]\n",
        "plt.plot(x, y, 'o', color='blue');\n",
        "plt.axis('equal')"
      ],
      "execution_count": 27,
      "outputs": [
        {
          "output_type": "execute_result",
          "data": {
            "text/plain": [
              "(-0.4975498, 0.4975498, -0.03917185000000001, 0.8226088500000001)"
            ]
          },
          "metadata": {
            "tags": []
          },
          "execution_count": 27
        },
        {
          "output_type": "display_data",
          "data": {
            "image/png": "[encoded data removed]",
            "text/plain": [
              "<Figure size 432x288 with 1 Axes>"
            ]
          },
          "metadata": {
            "tags": [],
            "needs_background": "light"
          }
        }
      ]
    },
    {
      "cell_type": "code",
      "metadata": {
        "id": "NGwDfukSf5R8"
      },
      "source": [
        "distorted = np.loadtxt('distorted.txt')"
      ],
      "execution_count": 28,
      "outputs": []
    },
    {
      "cell_type": "code",
      "metadata": {
        "colab": {
          "base_uri": "https://localhost:8080/"
        },
        "id": "4vPXbzd5gZv1",
        "outputId": "0c14b76d-19c5-4c2c-9c52-95aa9eeec13b"
      },
      "source": [
        "distorted"
      ],
      "execution_count": 29,
      "outputs": [
        {
          "output_type": "execute_result",
          "data": {
            "text/plain": [
              "array([[ 2.40486 , -1.19853 ],\n",
              "       [ 0.69197 ,  1.38844 ],\n",
              "       [-0.69197 , -1.38844 ],\n",
              "       [ 1.57328 , -1.24952 ],\n",
              "       [ 1.68056 , -1.24294 ],\n",
              "       [ 2.0587  , -0.675733],\n",
              "       [ 0.647881,  1.29998 ],\n",
              "       [ 1.44262 , -1.25754 ],\n",
              "       [ 1.43338 ,  0.268693],\n",
              "       [ 0.85792 ,  1.13781 ],\n",
              "       [ 0.85792 ,  1.13781 ],\n",
              "       [ 0.184349,  0.369898],\n",
              "       [ 0.464744, -1.31751 ],\n",
              "       [ 0.464744, -1.31751 ],\n",
              "       [ 0.780094,  1.25535 ],\n",
              "       [ 0.780094,  1.25535 ],\n",
              "       [-0.448402, -1.37351 ],\n",
              "       [-0.448402, -1.37351 ],\n",
              "       [ 2.15006 , -0.81371 ],\n",
              "       [ 1.42748 ,  0.277595],\n",
              "       [ 1.50545 ,  0.15984 ],\n",
              "       [ 0.63726 , -1.30693 ],\n",
              "       [ 1.43016 ,  0.273548],\n",
              "       [-0.254704, -0.511066],\n",
              "       [ 0.328207,  0.65855 ]])"
            ]
          },
          "metadata": {
            "tags": []
          },
          "execution_count": 29
        }
      ]
    },
    {
      "cell_type": "code",
      "metadata": {
        "colab": {
          "base_uri": "https://localhost:8080/",
          "height": 284
        },
        "id": "ccDUp61XgfXV",
        "outputId": "3a99279a-54c2-4e58-d814-97447d7419b7"
      },
      "source": [
        "x1 = [coord[0] for coord in distorted]\n",
        "y1 = [coord[1] for coord in distorted]\n",
        "plt.plot(x1, y1, 'o', color='red');\n",
        "plt.axis('equal')"
      ],
      "execution_count": 30,
      "outputs": [
        {
          "output_type": "execute_result",
          "data": {
            "text/plain": [
              "(-0.8468115, 2.5597015, -1.5272839999999999, 1.5272839999999999)"
            ]
          },
          "metadata": {
            "tags": []
          },
          "execution_count": 30
        },
        {
          "output_type": "display_data",
          "data": {
            "image/png": "[encoded data removed]",
            "text/plain": [
              "<Figure size 432x288 with 1 Axes>"
            ]
          },
          "metadata": {
            "tags": [],
            "needs_background": "light"
          }
        }
      ]
    },
    {
      "cell_type": "code",
      "metadata": {
        "id": "strsONDmg0A2"
      },
      "source": [
        "affine = np.loadtxt('affine.txt')"
      ],
      "execution_count": 31,
      "outputs": []
    },
    {
      "cell_type": "code",
      "metadata": {
        "colab": {
          "base_uri": "https://localhost:8080/",
          "height": 284
        },
        "id": "Q2zxCD7hg5DG",
        "outputId": "2e115c11-5f55-4b7e-df6b-4737af2ed956"
      },
      "source": [
        "x2 = [coord[0] for coord in affine]\n",
        "y2 = [coord[1] for coord in affine]\n",
        "plt.plot(x2, y2, 'o', color='green');\n",
        "plt.axis('equal')"
      ],
      "execution_count": 32,
      "outputs": [
        {
          "output_type": "execute_result",
          "data": {
            "text/plain": [
              "(-0.8468115, 2.5597015, -1.5272839999999999, 1.5272839999999999)"
            ]
          },
          "metadata": {
            "tags": []
          },
          "execution_count": 32
        },
        {
          "output_type": "display_data",
          "data": {
            "image/png": "[encoded data removed]",
            "text/plain": [
              "<Figure size 432x288 with 1 Axes>"
            ]
          },
          "metadata": {
            "tags": [],
            "needs_background": "light"
          }
        }
      ]
    },
    {
      "cell_type": "code",
      "metadata": {
        "colab": {
          "base_uri": "https://localhost:8080/",
          "height": 282
        },
        "id": "qzoa7tFDhOdh",
        "outputId": "35acc9ca-f2dc-419d-d40f-a40a52a44534"
      },
      "source": [
        "plt.figure(figsize=(10, 4))\n",
        "plt.subplot(121)\n",
        "plt.scatter(x1, y1, color='blue', label='projective transformation')\n",
        "plt.axis('equal')\n",
        "plt.legend()\n",
        "\n",
        "plt.subplot(122)\n",
        "plt.plot(x2, y2, 'o', color='red', label='affine approximation')\n",
        "plt.axis('equal')\n",
        "plt.legend()"
      ],
      "execution_count": 34,
      "outputs": [
        {
          "output_type": "execute_result",
          "data": {
            "text/plain": [
              "<matplotlib.legend.Legend at 0x7f2b0ea2cb38>"
            ]
          },
          "metadata": {
            "tags": []
          },
          "execution_count": 34
        },
        {
          "output_type": "display_data",
          "data": {
            "image/png": "[encoded data removed]",
            "text/plain": [
              "<Figure size 720x288 with 2 Axes>"
            ]
          },
          "metadata": {
            "tags": [],
            "needs_background": "light"
          }
        }
      ]
    }
  ]
}